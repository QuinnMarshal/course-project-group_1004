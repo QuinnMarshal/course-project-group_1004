{
 "cells": [
  {
   "cell_type": "markdown",
   "id": "closing-collector",
   "metadata": {},
   "source": [
    "## This is a Major Heading"
   ]
  },
  {
   "cell_type": "markdown",
   "id": "proved-malaysia",
   "metadata": {},
   "source": [
    "###### Heading"
   ]
  },
  {
   "cell_type": "markdown",
   "id": "immediate-contemporary",
   "metadata": {},
   "source": [
    "---"
   ]
  },
  {
   "cell_type": "markdown",
   "id": "lucky-viewer",
   "metadata": {},
   "source": [
    "**This is an example of bold text**"
   ]
  },
  {
   "cell_type": "markdown",
   "id": "monthly-aerospace",
   "metadata": {},
   "source": [
    "*This is an example of italic text*"
   ]
  },
  {
   "cell_type": "markdown",
   "id": "light-perspective",
   "metadata": {},
   "source": [
    "An ordered list:\n",
    "<ol>\n",
    "<li>Yellow</li>\n",
    "<li>Blue</li>\n",
    "<li>Pink</li>\n",
    "</ol>\n"
   ]
  },
  {
   "cell_type": "markdown",
   "id": "suffering-desire",
   "metadata": {},
   "source": [
    ">Quoted Text"
   ]
  },
  {
   "cell_type": "code",
   "execution_count": null,
   "id": "pointed-punishment",
   "metadata": {},
   "outputs": [],
   "source": []
  }
 ],
 "metadata": {
  "kernelspec": {
   "display_name": "Python 3",
   "language": "python",
   "name": "python3"
  },
  "language_info": {
   "codemirror_mode": {
    "name": "ipython",
    "version": 3
   },
   "file_extension": ".py",
   "mimetype": "text/x-python",
   "name": "python",
   "nbconvert_exporter": "python",
   "pygments_lexer": "ipython3",
   "version": "3.8.5"
  }
 },
 "nbformat": 4,
 "nbformat_minor": 5
}
