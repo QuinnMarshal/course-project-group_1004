{
 "cells": [
  {
   "cell_type": "markdown",
   "id": "amended-gravity",
   "metadata": {},
   "source": [
    "## This is a Major Heading"
   ]
  },
  {
   "cell_type": "markdown",
   "id": "basic-convenience",
   "metadata": {},
   "source": [
    "###### Heading"
   ]
  },
  {
   "cell_type": "markdown",
   "id": "advisory-immigration",
   "metadata": {},
   "source": [
    "---"
   ]
  },
  {
   "cell_type": "markdown",
   "id": "flexible-married",
   "metadata": {},
   "source": [
    "**This is an example of bold text**"
   ]
  },
  {
   "cell_type": "markdown",
   "id": "divine-enforcement",
   "metadata": {},
   "source": [
    "*This is an example of italic text*"
   ]
  },
  {
   "cell_type": "markdown",
   "id": "thermal-delhi",
   "metadata": {},
   "source": [
    "An ordered list:\n",
    "<ol>\n",
    "<li>Yellow</li>\n",
    "<li>Blue</li>\n",
    "<li>Pink</li>\n",
    "</ol>\n"
   ]
  },
  {
   "cell_type": "markdown",
   "id": "toxic-frequency",
   "metadata": {},
   "source": [
    ">Quoted Text"
   ]
  }
 ],
 "metadata": {
  "kernelspec": {
   "display_name": "Python 3",
   "language": "python",
   "name": "python3"
  },
  "language_info": {
   "codemirror_mode": {
    "name": "ipython",
    "version": 3
   },
   "file_extension": ".py",
   "mimetype": "text/x-python",
   "name": "python",
   "nbconvert_exporter": "python",
   "pygments_lexer": "ipython3",
   "version": "3.8.5"
  }
 },
 "nbformat": 4,
 "nbformat_minor": 5
}
