{
 "cells": [
  {
   "cell_type": "markdown",
   "id": "behind-olive",
   "metadata": {},
   "source": [
    "##This is a big heading\n",
    "\n",
    "####This is slightly smaller heading\n",
    "\n",
    "**This text is in bold**\n",
    "\n",
    "---\n",
    "\n",
    "*and this is in itallic*\n",
    "\n",
    "\n",
    "\n",
    "\n"
   ]
  }
 ],
 "metadata": {
  "kernelspec": {
   "display_name": "Python 3",
   "language": "python",
   "name": "python3"
  },
  "language_info": {
   "codemirror_mode": {
    "name": "ipython",
    "version": 3
   },
   "file_extension": ".py",
   "mimetype": "text/x-python",
   "name": "python",
   "nbconvert_exporter": "python",
   "pygments_lexer": "ipython3",
   "version": "3.8.5"
  }
 },
 "nbformat": 4,
 "nbformat_minor": 5
}
