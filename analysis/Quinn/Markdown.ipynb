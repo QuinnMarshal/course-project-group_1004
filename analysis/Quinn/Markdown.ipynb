{
 "cells": [
  {
   "cell_type": "code",
   "execution_count": null,
   "id": "rolled-qatar",
   "metadata": {},
   "outputs": [],
   "source": [
    "##This is a big heading\n",
    "####This is slightly smaller heading\n",
    "**This text is in bold\n",
    "\n",
    "---\n",
    "\n",
    "#and this is in illatic\n",
    "\n",
    "\n",
    "\n",
    "\n"
   ]
  }
 ],
 "metadata": {
  "kernelspec": {
   "display_name": "Python 3",
   "language": "python",
   "name": "python3"
  },
  "language_info": {
   "codemirror_mode": {
    "name": "ipython",
    "version": 3
   },
   "file_extension": ".py",
   "mimetype": "text/x-python",
   "name": "python",
   "nbconvert_exporter": "python",
   "pygments_lexer": "ipython3",
   "version": "3.8.5"
  }
 },
 "nbformat": 4,
 "nbformat_minor": 5
}
